{
 "cells": [
  {
   "cell_type": "code",
   "execution_count": 2,
   "metadata": {
    "collapsed": false
   },
   "outputs": [],
   "source": [
    "# bike2.ipynb\n",
    "# prediction for the Kaggle bike sharing demand contest\n",
    "\n",
    "import pandas as pd\n",
    "import numpy as np\n",
    "import matplotlib.pyplot as plt\n",
    "import time as systime\n",
    "import datetime as dtime\n",
    "\n",
    "from sklearn.tree import DecisionTreeRegressor\n",
    "from sklearn.ensemble import ExtraTreesRegressor\n",
    "from sklearn.ensemble import RandomForestRegressor\n",
    "from sklearn.ensemble import GradientBoostingRegressor\n",
    "from sklearn.neighbors import KNeighborsRegressor\n",
    "from sklearn.cross_validation import train_test_split\n",
    "\n",
    "def splitDatetime(data): \n",
    "    sub = pd.DataFrame(data.datetime.str.split(' ').tolist(), columns = \"date time\".split())\n",
    "    date = pd.DataFrame(sub.date.str.split('-').tolist(), columns=\"year month day\".split())\n",
    "    time = pd.DataFrame(sub.time.str.split(':').tolist(), columns = \"hour minute second\".split())\n",
    "    data['year'] = date['year'].astype(int)\n",
    "    data['month'] = date['month'].astype(int)\n",
    "    data['day'] = date['day'].astype(int)\n",
    "    data['hour'] = time['hour'].astype(int)\n",
    "    data['weekday']=0 #weekday=0: monday, weekday=6: sunday.\n",
    "    for i in range(0,len(train.year)):\n",
    "        data.weekday[i]=dtime.date(train.year[i], train.month[i], train.day[i]).weekday()   \n",
    "    return data\n",
    "\n",
    "def normalize(data): #feature normalization\n",
    "    data = (data - data.mean()) / (data.max() - data.min())\n",
    "    return data\n",
    "\n",
    "def predict(est, train, test, features, target):\n",
    "\n",
    "    est.fit(train[features], train[target])\n",
    "\n",
    "    with open(\"pred.csv\", 'wb') as f:\n",
    "        f.write(\"datetime,count\\n\")\n",
    "\n",
    "        for index, value in enumerate(list(est.predict(test[features]))):\n",
    "            f.write(\"%s,%s\\n\" % (test['datetime'].loc[index], int(value)))\n",
    "            \n",
    "def crossval(est, train, features, target): #cross-validation\n",
    "    start = systime.time()    \n",
    "    \n",
    "    train_train, train_test, target_train, target_test = train_test_split(train[features], train[target], test_size=0.33, random_state=42)\n",
    "\n",
    "    est.fit(train_train, target_train)\n",
    "\n",
    "    end = systime.time()\n",
    "    print 'rmsle:', rmsle(target_test, est.predict(train_test))\n",
    "    print 'elapsed time:', end-start\n",
    "    \n",
    "def sle(actual, predicted): #squared log error\n",
    "    return (np.power(np.log(np.array(actual)+1) - \n",
    "            np.log(np.array(predicted)+1), 2))\n",
    "    \n",
    "def rmsle(targets, predictions): #root mean squared log error\n",
    "    return np.sqrt((sle(targets, predictions)**2).mean())"
   ]
  },
  {
   "cell_type": "code",
   "execution_count": 3,
   "metadata": {
    "collapsed": false
   },
   "outputs": [
    {
     "name": "stderr",
     "output_type": "stream",
     "text": [
      "/Library/Python/2.7/site-packages/ipykernel/__main__.py:27: SettingWithCopyWarning: \n",
      "A value is trying to be set on a copy of a slice from a DataFrame\n",
      "\n",
      "See the caveats in the documentation: http://pandas.pydata.org/pandas-docs/stable/indexing.html#indexing-view-versus-copy\n"
     ]
    }
   ],
   "source": [
    "#read in the data, generate weekday feature\n",
    "\n",
    "train = pd.read_csv('data/train.csv')\n",
    "test = pd.read_csv('data/test.csv')\n",
    "\n",
    "train = splitDatetime(train)\n",
    "test = splitDatetime(test)"
   ]
  },
  {
   "cell_type": "code",
   "execution_count": 4,
   "metadata": {
    "collapsed": false
   },
   "outputs": [],
   "source": [
    "# divide sample into workdays and non-workdays\n",
    "\n",
    "train_wd = train[train.workingday==1]\n",
    "train_nwd = train[train.workingday==0]\n",
    "test_wd = test[test.workingday==1]\n",
    "test_nwd = test[test.workingday==0]"
   ]
  },
  {
   "cell_type": "code",
   "execution_count": 5,
   "metadata": {
    "collapsed": false
   },
   "outputs": [
    {
     "data": {
      "text/html": [
       "<div>\n",
       "<table border=\"1\" class=\"dataframe\">\n",
       "  <thead>\n",
       "    <tr style=\"text-align: right;\">\n",
       "      <th></th>\n",
       "      <th>datetime</th>\n",
       "      <th>season</th>\n",
       "      <th>holiday</th>\n",
       "      <th>workingday</th>\n",
       "      <th>weather</th>\n",
       "      <th>temp</th>\n",
       "      <th>atemp</th>\n",
       "      <th>humidity</th>\n",
       "      <th>windspeed</th>\n",
       "      <th>casual</th>\n",
       "      <th>registered</th>\n",
       "      <th>count</th>\n",
       "      <th>year</th>\n",
       "      <th>month</th>\n",
       "      <th>day</th>\n",
       "      <th>hour</th>\n",
       "      <th>weekday</th>\n",
       "    </tr>\n",
       "  </thead>\n",
       "  <tbody>\n",
       "    <tr>\n",
       "      <th>47</th>\n",
       "      <td>2011-01-03 00:00:00</td>\n",
       "      <td>1</td>\n",
       "      <td>0</td>\n",
       "      <td>1</td>\n",
       "      <td>1</td>\n",
       "      <td>9.02</td>\n",
       "      <td>9.850</td>\n",
       "      <td>44</td>\n",
       "      <td>23.9994</td>\n",
       "      <td>0</td>\n",
       "      <td>5</td>\n",
       "      <td>5</td>\n",
       "      <td>2011</td>\n",
       "      <td>1</td>\n",
       "      <td>3</td>\n",
       "      <td>0</td>\n",
       "      <td>0</td>\n",
       "    </tr>\n",
       "    <tr>\n",
       "      <th>48</th>\n",
       "      <td>2011-01-03 01:00:00</td>\n",
       "      <td>1</td>\n",
       "      <td>0</td>\n",
       "      <td>1</td>\n",
       "      <td>1</td>\n",
       "      <td>8.20</td>\n",
       "      <td>8.335</td>\n",
       "      <td>44</td>\n",
       "      <td>27.9993</td>\n",
       "      <td>0</td>\n",
       "      <td>2</td>\n",
       "      <td>2</td>\n",
       "      <td>2011</td>\n",
       "      <td>1</td>\n",
       "      <td>3</td>\n",
       "      <td>1</td>\n",
       "      <td>0</td>\n",
       "    </tr>\n",
       "    <tr>\n",
       "      <th>49</th>\n",
       "      <td>2011-01-03 04:00:00</td>\n",
       "      <td>1</td>\n",
       "      <td>0</td>\n",
       "      <td>1</td>\n",
       "      <td>1</td>\n",
       "      <td>6.56</td>\n",
       "      <td>6.820</td>\n",
       "      <td>47</td>\n",
       "      <td>26.0027</td>\n",
       "      <td>0</td>\n",
       "      <td>1</td>\n",
       "      <td>1</td>\n",
       "      <td>2011</td>\n",
       "      <td>1</td>\n",
       "      <td>3</td>\n",
       "      <td>4</td>\n",
       "      <td>0</td>\n",
       "    </tr>\n",
       "    <tr>\n",
       "      <th>50</th>\n",
       "      <td>2011-01-03 05:00:00</td>\n",
       "      <td>1</td>\n",
       "      <td>0</td>\n",
       "      <td>1</td>\n",
       "      <td>1</td>\n",
       "      <td>6.56</td>\n",
       "      <td>6.820</td>\n",
       "      <td>47</td>\n",
       "      <td>19.0012</td>\n",
       "      <td>0</td>\n",
       "      <td>3</td>\n",
       "      <td>3</td>\n",
       "      <td>2011</td>\n",
       "      <td>1</td>\n",
       "      <td>3</td>\n",
       "      <td>5</td>\n",
       "      <td>0</td>\n",
       "    </tr>\n",
       "    <tr>\n",
       "      <th>51</th>\n",
       "      <td>2011-01-03 06:00:00</td>\n",
       "      <td>1</td>\n",
       "      <td>0</td>\n",
       "      <td>1</td>\n",
       "      <td>1</td>\n",
       "      <td>5.74</td>\n",
       "      <td>5.305</td>\n",
       "      <td>50</td>\n",
       "      <td>26.0027</td>\n",
       "      <td>0</td>\n",
       "      <td>30</td>\n",
       "      <td>30</td>\n",
       "      <td>2011</td>\n",
       "      <td>1</td>\n",
       "      <td>3</td>\n",
       "      <td>6</td>\n",
       "      <td>0</td>\n",
       "    </tr>\n",
       "  </tbody>\n",
       "</table>\n",
       "</div>"
      ],
      "text/plain": [
       "               datetime  season  holiday  workingday  weather  temp  atemp  \\\n",
       "47  2011-01-03 00:00:00       1        0           1        1  9.02  9.850   \n",
       "48  2011-01-03 01:00:00       1        0           1        1  8.20  8.335   \n",
       "49  2011-01-03 04:00:00       1        0           1        1  6.56  6.820   \n",
       "50  2011-01-03 05:00:00       1        0           1        1  6.56  6.820   \n",
       "51  2011-01-03 06:00:00       1        0           1        1  5.74  5.305   \n",
       "\n",
       "    humidity  windspeed  casual  registered  count  year  month  day  hour  \\\n",
       "47        44    23.9994       0           5      5  2011      1    3     0   \n",
       "48        44    27.9993       0           2      2  2011      1    3     1   \n",
       "49        47    26.0027       0           1      1  2011      1    3     4   \n",
       "50        47    19.0012       0           3      3  2011      1    3     5   \n",
       "51        50    26.0027       0          30     30  2011      1    3     6   \n",
       "\n",
       "    weekday  \n",
       "47        0  \n",
       "48        0  \n",
       "49        0  \n",
       "50        0  \n",
       "51        0  "
      ]
     },
     "execution_count": 5,
     "metadata": {},
     "output_type": "execute_result"
    }
   ],
   "source": [
    "# take a look at the raw data\n",
    "\n",
    "train_wd.head(5)"
   ]
  },
  {
   "cell_type": "code",
   "execution_count": 6,
   "metadata": {
    "collapsed": false
   },
   "outputs": [],
   "source": [
    "# determine the features to be used in the Machine Learning algorithm\n",
    "\n",
    "target = 'count'\n",
    "\n",
    "features = [\n",
    "#                'season',\n",
    "#                'holiday',\n",
    "                'workingday',\n",
    "#                'weather',\n",
    "                'temp',\n",
    "#                'atemp',\n",
    "                'humidity',\n",
    "#                'windspeed',\n",
    "                'year',\n",
    "                'month',\n",
    "#                'day',\n",
    "                'hour',\n",
    "                'weekday'\n",
    "                 ]\n",
    "\n",
    "# features that are important for casual bike-riders:\n",
    "features_cas = [\n",
    "#                'season',\n",
    "#                'holiday',\n",
    "#                'workingday',\n",
    "#                'weather',\n",
    "#                'temp',\n",
    "                'atemp',\n",
    "                'humidity',\n",
    "                'windspeed',\n",
    "                'year',\n",
    "                'month',\n",
    "                'day',\n",
    "                'hour',\n",
    "                'weekday'\n",
    "                 ]\n",
    "\n",
    "# features that are imporant for regular bike-riders:\n",
    "features_reg = [#'season',\n",
    "#                'holiday',\n",
    "#                'workingday',\n",
    "#                'weather',\n",
    "#                'temp',\n",
    "                'atemp',\n",
    "                'humidity',\n",
    "#                'windspeed',\n",
    "                'year',\n",
    "                'month',\n",
    "#                'day',\n",
    "                'hour',\n",
    "                'weekday'\n",
    "                ]"
   ]
  },
  {
   "cell_type": "code",
   "execution_count": 7,
   "metadata": {
    "collapsed": false
   },
   "outputs": [],
   "source": [
    "#normalize the features\n",
    "\n",
    "train[features_reg] = normalize(train[features_reg])\n",
    "train[features_cas] = normalize(train[features_cas])"
   ]
  },
  {
   "cell_type": "code",
   "execution_count": 12,
   "metadata": {
    "collapsed": false
   },
   "outputs": [
    {
     "name": "stdout",
     "output_type": "stream",
     "text": [
      "rmsle: 0.633364404226\n",
      "elapsed time: 7.22376894951\n"
     ]
    }
   ],
   "source": [
    "#define the ML algorithm\n",
    "\n",
    "x=500\n",
    "est = RandomForestRegressor(n_estimators=x) #one regressor for all\n",
    "\n",
    "\n",
    "# crossvalidate the one-for-all regressor\n",
    "\n",
    "crossval(est, train, features, 'casual')"
   ]
  },
  {
   "cell_type": "code",
   "execution_count": 16,
   "metadata": {
    "collapsed": false
   },
   "outputs": [
    {
     "name": "stdout",
     "output_type": "stream",
     "text": [
      "Feature ranking all:\n",
      "1. feature: hour (0.383353)\n",
      "2. feature: temp (0.261897)\n",
      "3. feature: workingday (0.167886)\n",
      "4. feature: humidity (0.081047)\n",
      "5. feature: weekday (0.040105)\n",
      "6. feature: year (0.034634)\n",
      "7. feature: month (0.031077)\n"
     ]
    }
   ],
   "source": [
    "# based on the estimator, evaluate the feature importances\n",
    "\n",
    "importances = est.feature_importances_\n",
    "indices = np.argsort(importances)[::-1]\n",
    "print(\"Feature ranking all:\")\n",
    "for f in range(len(features)):\n",
    "    print(\"%d. feature: %s (%f)\" % (f + 1, features[indices[f]], importances[indices[f]]))"
   ]
  },
  {
   "cell_type": "code",
   "execution_count": 8,
   "metadata": {
    "collapsed": false
   },
   "outputs": [],
   "source": [
    "# make a prediction\n",
    "\n",
    "predict(est, train, test, features, target)"
   ]
  },
  {
   "cell_type": "code",
   "execution_count": 136,
   "metadata": {
    "collapsed": false
   },
   "outputs": [],
   "source": [
    "#create output containing prediction for the test set\n",
    "\n",
    "with open(\"pred.csv\", 'wb') as f:\n",
    "    f.write(\"datetime,count\\n\")\n",
    "    for index, value in enumerate(list(test['count'])):\n",
    "        f.write(\"%s,%s\\n\" % (test['datetime'].loc[index], int(value)))"
   ]
  },
  {
   "cell_type": "code",
   "execution_count": null,
   "metadata": {
    "collapsed": true
   },
   "outputs": [],
   "source": [
    "# I also tried 4 separate regressors (for casual vsregulars vs workdays vs weekends):\n",
    "# but for some reason it performes worse that the one-for-all regressor\n",
    "\n",
    "est_reg_wd = RandomForestRegressor(n_estimators=x)\n",
    "est_cas_wd = RandomForestRegressor(n_estimators=x)\n",
    "est_reg_nwd = RandomForestRegressor(n_estimators=x)\n",
    "est_cas_nwd = RandomForestRegressor(n_estimators=x)\n",
    "\n",
    "start = systime.time()    \n",
    "    \n",
    "train_train, train_test, target_train, target_test = train_test_split(train_wd[features_cas], train_wd['casual'], test_size=0.33, random_state=42)\n",
    "est_cas_wd.fit(train_train, target_train)\n",
    "predcas = est_cas_wd.predict(train_test)\n",
    "rmsle_cas_wd = rmsle(target_test, predcas)\n",
    "\n",
    "train_train, train_test, target_train, target_test = train_test_split(train_wd[features_reg], train_wd['registered'], test_size=0.33, random_state=42)\n",
    "est_reg_wd.fit(train_train, target_train)\n",
    "predreg = est_reg_wd.predict(train_test)\n",
    "rmsle_reg_wd = rmsle(target_test, predreg)\n",
    "predcount = predcas + predreg\n",
    "\n",
    "train_train, train_test, target_train, target_test = train_test_split(train_wd[features_reg], train_wd['count'], test_size=0.33, random_state=42)\n",
    "end = systime.time()\n",
    "print '---workingdays---'\n",
    "print 'rmsle cas reg total:', rmsle_cas_wd, rmsle_reg_wd, rmsle(target_test, predcount)\n",
    "print 'elapsed time:', end-start\n",
    "\n",
    "\n",
    "start = systime.time()    \n",
    "    \n",
    "train_train, train_test, target_train, target_test = train_test_split(train_nwd[features_cas], train_nwd['casual'], test_size=0.33, random_state=42)\n",
    "est_cas_nwd.fit(train_train, target_train)\n",
    "predcas = est_cas_nwd.predict(train_test)\n",
    "rmsle_cas_nwd = rmsle(target_test, predcas)\n",
    "\n",
    "train_train, train_test, target_train, target_test = train_test_split(train_nwd[features_reg], train_nwd['registered'], test_size=0.33, random_state=42)\n",
    "est_reg_nwd.fit(train_train, target_train)\n",
    "predreg = est_reg_nwd.predict(train_test)\n",
    "rmsle_reg_nwd = rmsle(target_test, predreg)\n",
    "predcount = predcas + predreg\n",
    "\n",
    "train_train, train_test, target_train, target_test = train_test_split(train_nwd[features_reg], train_nwd['count'], test_size=0.33, random_state=42)\n",
    "end = systime.time()\n",
    "print '---no workingdays---'\n",
    "print 'rmsle cas reg total:', rmsle_cas_nwd, rmsle_reg_nwd, rmsle(target_test, predcount)\n",
    "print 'elapsed time:', end-start"
   ]
  },
  {
   "cell_type": "code",
   "execution_count": null,
   "metadata": {
    "collapsed": true
   },
   "outputs": [],
   "source": [
    "# feature ranking\n",
    "\n",
    "importances = est_reg_wd.feature_importances_\n",
    "indices = np.argsort(importances)[::-1]\n",
    "print(\"Feature ranking registered:\")\n",
    "for f in range(len(features_reg)):\n",
    "    print(\"%d. feature: %s (%f)\" % (f + 1, features_reg[indices[f]], importances[indices[f]]))\n",
    "    \n",
    "importances = est_cas_wd.feature_importances_\n",
    "indices = np.argsort(importances)[::-1]\n",
    "print(\"Feature ranking casual:\")\n",
    "for f in range(len(features_cas)):\n",
    "    print(\"%d. feature: %s (%f)\" % (f + 1, features_cas[indices[f]], importances[indices[f]]))"
   ]
  },
  {
   "cell_type": "code",
   "execution_count": 9,
   "metadata": {
    "collapsed": false
   },
   "outputs": [
    {
     "name": "stdout",
     "output_type": "stream",
     "text": [
      "---workingdays---\n",
      "rmsle cas reg total: 0.637318711798 0.367398369022 0.353534781443\n",
      "elapsed time: 12.3438110352\n",
      "---no workingdays---\n",
      "rmsle cas reg total: 0.703491689307 0.370432493012 0.381738656948\n",
      "elapsed time: 6.03031682968\n"
     ]
    }
   ],
   "source": [
    "est_reg_wd.fit(train_wd[features], train_wd['registered'])\n",
    "test_wd['registered'] = est_reg_wd.predict(test_wd[features])\n",
    "est_cas_wd.fit(train_wd[features], train_wd['casual'])\n",
    "test_wd['casual'] = est_cas_wd.predict(test_wd[features])\n",
    "test_wd['count'] = test_wd.registered + test_wd.casual\n",
    "est_reg_nwd.fit(train_nwd[features], train_nwd['registered'])\n",
    "test_nwd['registered'] = est_reg_nwd.predict(test_nwd[features])\n",
    "est_cas_nwd.fit(train_nwd[features], train_nwd['casual'])\n",
    "test_nwd['casual'] = est_cas_nwd.predict(test_nwd[features])\n",
    "test_nwd['count'] = test_nwd['registered'] + test_nwd['casual']\n",
    "\n",
    "test = test_wd.merge(test_nwd, how='outer')"
   ]
  }
 ],
 "metadata": {
  "kernelspec": {
   "display_name": "Python 2",
   "language": "python",
   "name": "python2"
  },
  "language_info": {
   "codemirror_mode": {
    "name": "ipython",
    "version": 2
   },
   "file_extension": ".py",
   "mimetype": "text/x-python",
   "name": "python",
   "nbconvert_exporter": "python",
   "pygments_lexer": "ipython2",
   "version": "2.7.6"
  }
 },
 "nbformat": 4,
 "nbformat_minor": 0
}
